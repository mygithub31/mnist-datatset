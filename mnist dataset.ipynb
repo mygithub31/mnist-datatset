{
 "cells": [
  {
   "cell_type": "code",
   "execution_count": 2,
   "id": "46790196",
   "metadata": {},
   "outputs": [
    {
     "name": "stdout",
     "output_type": "stream",
     "text": [
      "Hello world\n"
     ]
    }
   ],
   "source": [
    "print('Hello world')"
   ]
  },
  {
   "cell_type": "code",
   "execution_count": 3,
   "id": "031cb282",
   "metadata": {},
   "outputs": [
    {
     "data": {
      "text/plain": [
       "3"
      ]
     },
     "execution_count": 3,
     "metadata": {},
     "output_type": "execute_result"
    }
   ],
   "source": [
    "1+2"
   ]
  },
  {
   "cell_type": "code",
   "execution_count": 4,
   "id": "11da6ead",
   "metadata": {},
   "outputs": [],
   "source": [
    "import numpy as no"
   ]
  },
  {
   "cell_type": "code",
   "execution_count": 5,
   "id": "b76a2740",
   "metadata": {},
   "outputs": [],
   "source": [
    "import tensorflow as tf"
   ]
  },
  {
   "cell_type": "code",
   "execution_count": 7,
   "id": "824c0ad7",
   "metadata": {},
   "outputs": [],
   "source": [
    "from tensorflow.keras import layers"
   ]
  },
  {
   "cell_type": "code",
   "execution_count": 8,
   "id": "e1e0bc3a",
   "metadata": {},
   "outputs": [],
   "source": [
    "from tensorflow.keras import Sequential"
   ]
  },
  {
   "cell_type": "code",
   "execution_count": 9,
   "id": "726936a3",
   "metadata": {},
   "outputs": [],
   "source": [
    "# All working fine"
   ]
  },
  {
   "cell_type": "code",
   "execution_count": 10,
   "id": "e43d44b4",
   "metadata": {},
   "outputs": [],
   "source": [
    "# yes\n",
    "# but how to goto my previous jupyter"
   ]
  },
  {
   "cell_type": "code",
   "execution_count": null,
   "id": "9a08816b",
   "metadata": {},
   "outputs": [],
   "source": [
    "# once you open terminal, the base environment is active (always)\n",
    "# to change the environment you have to activate other environment using\n",
    "source activate env_name\n",
    "\n",
    "then launch jupyter notebook\n",
    "# Jupyter notebook will  be launched in the activated environrmnt.\n",
    "\n",
    "\n",
    "you came here via desktop\n",
    "\n",
    "yes\n",
    "\n",
    "so for this environment i have to come through desktop\n",
    "\n",
    "\n",
    "Through terminal.\n",
    "\n",
    "\n",
    "I will demonstrate the same at 6pm in your mentor session.\n",
    "\n",
    "ok\n",
    "\n",
    "Great\n",
    "\n",
    "Thank you for joining\n",
    "\n"
   ]
  },
  {
   "cell_type": "code",
   "execution_count": 2,
   "id": "f5f0fbcc",
   "metadata": {
    "scrolled": false
   },
   "outputs": [],
   "source": [
    "import matplotlib.pyplot as plt\n",
    "from tensorflow.keras.layers import Dense, Flatten\n",
    "from tensorflow.keras.models import Sequential\n",
    "from tensorflow.keras.utils import to_categorical\n",
    "from tensorflow.keras.datasets import mnist\n",
    "from tensorflow.keras import utils"
   ]
  },
  {
   "cell_type": "code",
   "execution_count": 14,
   "id": "11e3bdfe",
   "metadata": {},
   "outputs": [
    {
     "name": "stdout",
     "output_type": "stream",
     "text": [
      "Collecting keras\n",
      "  Using cached keras-2.6.0-py2.py3-none-any.whl (1.3 MB)\n",
      "Installing collected packages: keras\n",
      "Successfully installed keras-2.6.0\n",
      "Note: you may need to restart the kernel to use updated packages.\n"
     ]
    }
   ],
   "source": [
    "pip install keras"
   ]
  },
  {
   "cell_type": "code",
   "execution_count": 12,
   "id": "0faa62f2",
   "metadata": {},
   "outputs": [
    {
     "name": "stdout",
     "output_type": "stream",
     "text": [
      "Collecting matplotlib\n",
      "  Downloading matplotlib-3.3.4-cp36-cp36m-macosx_10_9_x86_64.whl (8.5 MB)\n",
      "\u001b[K     |████████████████████████████████| 8.5 MB 4.8 MB/s eta 0:00:01     |███████▏                        | 1.9 MB 1.7 MB/s eta 0:00:04\n",
      "\u001b[?25hCollecting kiwisolver>=1.0.1\n",
      "  Downloading kiwisolver-1.3.1-cp36-cp36m-macosx_10_9_x86_64.whl (61 kB)\n",
      "\u001b[K     |████████████████████████████████| 61 kB 6.1 MB/s  eta 0:00:01\n",
      "\u001b[?25hRequirement already satisfied: numpy>=1.15 in /Users/juhimishra/opt/anaconda3/envs/tf/lib/python3.6/site-packages (from matplotlib) (1.19.2)\n",
      "Collecting pillow>=6.2.0\n",
      "  Downloading Pillow-8.3.2-cp36-cp36m-macosx_10_10_x86_64.whl (3.0 MB)\n",
      "\u001b[K     |████████████████████████████████| 3.0 MB 7.4 MB/s eta 0:00:01\n",
      "\u001b[?25hRequirement already satisfied: python-dateutil>=2.1 in /Users/juhimishra/opt/anaconda3/envs/tf/lib/python3.6/site-packages (from matplotlib) (2.8.2)\n",
      "Requirement already satisfied: pyparsing!=2.0.4,!=2.1.2,!=2.1.6,>=2.0.3 in /Users/juhimishra/opt/anaconda3/envs/tf/lib/python3.6/site-packages (from matplotlib) (2.4.7)\n",
      "Collecting cycler>=0.10\n",
      "  Using cached cycler-0.10.0-py2.py3-none-any.whl (6.5 kB)\n",
      "Requirement already satisfied: six in /Users/juhimishra/opt/anaconda3/envs/tf/lib/python3.6/site-packages (from cycler>=0.10->matplotlib) (1.16.0)\n",
      "Installing collected packages: pillow, kiwisolver, cycler, matplotlib\n",
      "Successfully installed cycler-0.10.0 kiwisolver-1.3.1 matplotlib-3.3.4 pillow-8.3.2\n",
      "Note: you may need to restart the kernel to use updated packages.\n"
     ]
    }
   ],
   "source": [
    "pip install matplotlib"
   ]
  },
  {
   "cell_type": "code",
   "execution_count": 4,
   "id": "5042e569",
   "metadata": {},
   "outputs": [],
   "source": [
    "(x_train,y_train),(x_test,y_test) = mnist.load_data()"
   ]
  },
  {
   "cell_type": "code",
   "execution_count": 5,
   "id": "f9493d6d",
   "metadata": {
    "scrolled": false
   },
   "outputs": [
    {
     "data": {
      "text/plain": [
       "(60000, 28, 28)"
      ]
     },
     "execution_count": 5,
     "metadata": {},
     "output_type": "execute_result"
    }
   ],
   "source": [
    "x_train.shape"
   ]
  },
  {
   "cell_type": "code",
   "execution_count": 6,
   "id": "c53f6f30",
   "metadata": {},
   "outputs": [
    {
     "data": {
      "text/plain": [
       "array([5, 0, 4, ..., 5, 6, 8], dtype=uint8)"
      ]
     },
     "execution_count": 6,
     "metadata": {},
     "output_type": "execute_result"
    }
   ],
   "source": [
    "y_train"
   ]
  },
  {
   "cell_type": "code",
   "execution_count": 7,
   "id": "f8968245",
   "metadata": {},
   "outputs": [
    {
     "data": {
      "text/plain": [
       "(60000,)"
      ]
     },
     "execution_count": 7,
     "metadata": {},
     "output_type": "execute_result"
    }
   ],
   "source": [
    "y_train.shape"
   ]
  },
  {
   "cell_type": "code",
   "execution_count": 8,
   "id": "c2dea260",
   "metadata": {
    "scrolled": true
   },
   "outputs": [
    {
     "data": {
      "text/plain": [
       "(10000, 28, 28)"
      ]
     },
     "execution_count": 8,
     "metadata": {},
     "output_type": "execute_result"
    }
   ],
   "source": [
    "x_test.shape"
   ]
  },
  {
   "cell_type": "code",
   "execution_count": 9,
   "id": "d9aa47a3",
   "metadata": {},
   "outputs": [
    {
     "data": {
      "text/plain": [
       "array([7, 2, 1, ..., 4, 5, 6], dtype=uint8)"
      ]
     },
     "execution_count": 9,
     "metadata": {},
     "output_type": "execute_result"
    }
   ],
   "source": [
    "y_test"
   ]
  },
  {
   "cell_type": "code",
   "execution_count": 10,
   "id": "4b587cbe",
   "metadata": {},
   "outputs": [
    {
     "data": {
      "text/plain": [
       "(10000,)"
      ]
     },
     "execution_count": 10,
     "metadata": {},
     "output_type": "execute_result"
    }
   ],
   "source": [
    "y_test.shape"
   ]
  },
  {
   "cell_type": "code",
   "execution_count": 11,
   "id": "43688f2e",
   "metadata": {},
   "outputs": [
    {
     "data": {
      "image/png": "[encoded data removed]",
      "text/plain": [
       "<Figure size 1440x288 with 10 Axes>"
      ]
     },
     "metadata": {
      "needs_background": "light"
     },
     "output_type": "display_data"
    }
   ],
   "source": [
    "fig,axes= plt.subplots(ncols=10,sharex = False,\n",
    "                      sharey = True, figsize = (20,4))\n",
    "for i in range(10):\n",
    "    axes[i].set_title(y_train[i])\n",
    "    axes[i].imshow(x_train[i],cmap ='gray')\n",
    "    axes[i].get_xaxis().set_visible(False)\n",
    "    axes[i].get_yaxis().set_visible(False)\n",
    "plt.show()\n"
   ]
  },
  {
   "cell_type": "code",
   "execution_count": 12,
   "id": "257cce85",
   "metadata": {},
   "outputs": [],
   "source": [
    "y_train = to_categorical(y_train)\n",
    "y_test = to_categorical(y_test)"
   ]
  },
  {
   "cell_type": "code",
   "execution_count": 13,
   "id": "5655bf0f",
   "metadata": {
    "scrolled": true
   },
   "outputs": [
    {
     "data": {
      "text/plain": [
       "(60000, 10)"
      ]
     },
     "execution_count": 13,
     "metadata": {},
     "output_type": "execute_result"
    }
   ],
   "source": [
    "y_train.shape"
   ]
  },
  {
   "cell_type": "code",
   "execution_count": 14,
   "id": "273480de",
   "metadata": {},
   "outputs": [],
   "source": [
    "model = Sequential()\n",
    "model.add(Flatten(input_shape=(28,28)))\n",
    "model.add(Dense(10,activation='sigmoid'))\n",
    "model.add(Dense(5,activation='sigmoid'))\n",
    "model.add(Dense(10,activation='softmax'))"
   ]
  },
  {
   "cell_type": "code",
   "execution_count": 15,
   "id": "de7b15ef",
   "metadata": {
    "scrolled": true
   },
   "outputs": [
    {
     "name": "stdout",
     "output_type": "stream",
     "text": [
      "Model: \"sequential\"\n",
      "_________________________________________________________________\n",
      "Layer (type)                 Output Shape              Param #   \n",
      "=================================================================\n",
      "flatten (Flatten)            (None, 784)               0         \n",
      "_________________________________________________________________\n",
      "dense (Dense)                (None, 10)                7850      \n",
      "_________________________________________________________________\n",
      "dense_1 (Dense)              (None, 5)                 55        \n",
      "_________________________________________________________________\n",
      "dense_2 (Dense)              (None, 10)                60        \n",
      "=================================================================\n",
      "Total params: 7,965\n",
      "Trainable params: 7,965\n",
      "Non-trainable params: 0\n",
      "_________________________________________________________________\n"
     ]
    }
   ],
   "source": [
    "model.summary()"
   ]
  },
  {
   "cell_type": "code",
   "execution_count": 19,
   "id": "6e914ed5",
   "metadata": {
    "scrolled": true
   },
   "outputs": [
    {
     "name": "stdout",
     "output_type": "stream",
     "text": [
      "Failed to import pydot. You must install pydot and graphviz for `pydotprint` to work.\n"
     ]
    }
   ],
   "source": [
    "utils.plot_model(model,show_shapes=True)"
   ]
  },
  {
   "cell_type": "code",
   "execution_count": 17,
   "id": "478df42e",
   "metadata": {},
   "outputs": [
    {
     "name": "stdout",
     "output_type": "stream",
     "text": [
      "Requirement already satisfied: pydot in /Users/juhimishra/opt/anaconda3/envs/tf/lib/python3.6/site-packages (1.4.2)\n",
      "Requirement already satisfied: pyparsing>=2.1.4 in /Users/juhimishra/opt/anaconda3/envs/tf/lib/python3.6/site-packages (from pydot) (2.4.7)\n",
      "Note: you may need to restart the kernel to use updated packages.\n"
     ]
    }
   ],
   "source": [
    "pip install pydot"
   ]
  },
  {
   "cell_type": "code",
   "execution_count": 18,
   "id": "9931b15f",
   "metadata": {},
   "outputs": [
    {
     "name": "stdout",
     "output_type": "stream",
     "text": [
      "Requirement already satisfied: graphviz in /Users/juhimishra/opt/anaconda3/envs/tf/lib/python3.6/site-packages (0.17)\n",
      "Note: you may need to restart the kernel to use updated packages.\n"
     ]
    }
   ],
   "source": [
    "pip install graphviz"
   ]
  },
  {
   "cell_type": "code",
   "execution_count": 38,
   "id": "15f0a663",
   "metadata": {
    "scrolled": true
   },
   "outputs": [
    {
     "name": "stdout",
     "output_type": "stream",
     "text": [
      "Collecting pydotplus\n",
      "  Downloading pydotplus-2.0.2.tar.gz (278 kB)\n",
      "\u001b[K     |████████████████████████████████| 278 kB 1.2 MB/s eta 0:00:01     |██████████████                  | 122 kB 1.2 MB/s eta 0:00:01\n",
      "\u001b[?25hRequirement already satisfied: pyparsing>=2.0.1 in /Users/juhimishra/opt/anaconda3/envs/tf/lib/python3.6/site-packages (from pydotplus) (2.4.7)\n",
      "Building wheels for collected packages: pydotplus\n",
      "  Building wheel for pydotplus (setup.py) ... \u001b[?25ldone\n",
      "\u001b[?25h  Created wheel for pydotplus: filename=pydotplus-2.0.2-py3-none-any.whl size=24575 sha256=cc5d86b30934122909647b3ec83a291c693c9736a98a49b800c037d2cd4f972c\n",
      "  Stored in directory: /Users/juhimishra/Library/Caches/pip/wheels/1f/5c/ba/f931f74fcac8f48b18ae597279203b1c1f92fc76249c2b6f66\n",
      "Successfully built pydotplus\n",
      "Installing collected packages: pydotplus\n",
      "Successfully installed pydotplus-2.0.2\n"
     ]
    }
   ],
   "source": [
    "!pip install pydotplus"
   ]
  },
  {
   "cell_type": "code",
   "execution_count": null,
   "id": "85376b6f",
   "metadata": {
    "scrolled": true
   },
   "outputs": [
    {
     "name": "stdout",
     "output_type": "stream",
     "text": [
      "Password:"
     ]
    }
   ],
   "source": [
    "!sudo apt-get install graphviz"
   ]
  },
  {
   "cell_type": "code",
   "execution_count": 20,
   "id": "830f8934",
   "metadata": {},
   "outputs": [],
   "source": [
    "model.compile(loss = 'categorical_crossentropy',\n",
    "             optimizer='adam',\n",
    "             metrics=['acc'])\n"
   ]
  },
  {
   "cell_type": "code",
   "execution_count": 25,
   "id": "47c51860",
   "metadata": {
    "scrolled": false
   },
   "outputs": [
    {
     "name": "stdout",
     "output_type": "stream",
     "text": [
      "Train on 60000 samples, validate on 10000 samples\n",
      "Epoch 1/20\n",
      "60000/60000 [==============================] - 8s 135us/sample - loss: 0.5457 - acc: 0.8403 - val_loss: 0.5211 - val_acc: 0.8456\n",
      "Epoch 2/20\n",
      "60000/60000 [==============================] - 8s 131us/sample - loss: 0.5250 - acc: 0.8475 - val_loss: 0.5185 - val_acc: 0.8504\n",
      "Epoch 3/20\n",
      "60000/60000 [==============================] - 8s 132us/sample - loss: 0.5365 - acc: 0.8472 - val_loss: 0.5277 - val_acc: 0.8483\n",
      "Epoch 4/20\n",
      "60000/60000 [==============================] - 8s 132us/sample - loss: 0.5622 - acc: 0.8349 - val_loss: 0.5351 - val_acc: 0.8459\n",
      "Epoch 5/20\n",
      "60000/60000 [==============================] - 8s 136us/sample - loss: 0.5278 - acc: 0.8511 - val_loss: 0.5092 - val_acc: 0.8496\n",
      "Epoch 6/20\n",
      "60000/60000 [==============================] - 8s 136us/sample - loss: 0.5320 - acc: 0.8487 - val_loss: 0.5471 - val_acc: 0.8431\n",
      "Epoch 7/20\n",
      "60000/60000 [==============================] - 8s 133us/sample - loss: 0.5219 - acc: 0.8561 - val_loss: 0.5363 - val_acc: 0.8429\n",
      "Epoch 8/20\n",
      "60000/60000 [==============================] - 8s 135us/sample - loss: 0.5112 - acc: 0.8549 - val_loss: 0.4992 - val_acc: 0.8556\n",
      "Epoch 9/20\n",
      "60000/60000 [==============================] - 8s 134us/sample - loss: 0.4980 - acc: 0.8565 - val_loss: 0.5018 - val_acc: 0.8581\n",
      "Epoch 10/20\n",
      "60000/60000 [==============================] - 8s 135us/sample - loss: 0.5118 - acc: 0.8540 - val_loss: 0.5233 - val_acc: 0.8488\n",
      "Epoch 11/20\n",
      "60000/60000 [==============================] - 8s 133us/sample - loss: 0.5225 - acc: 0.8494 - val_loss: 0.5023 - val_acc: 0.8528\n",
      "Epoch 12/20\n",
      "60000/60000 [==============================] - 8s 135us/sample - loss: 0.5158 - acc: 0.8526 - val_loss: 0.4934 - val_acc: 0.8613\n",
      "Epoch 13/20\n",
      "60000/60000 [==============================] - 8s 134us/sample - loss: 0.5111 - acc: 0.8544 - val_loss: 0.4858 - val_acc: 0.8617\n",
      "Epoch 14/20\n",
      "60000/60000 [==============================] - 8s 135us/sample - loss: 0.5093 - acc: 0.8512 - val_loss: 0.5100 - val_acc: 0.8426\n",
      "Epoch 15/20\n",
      "60000/60000 [==============================] - 8s 138us/sample - loss: 0.5016 - acc: 0.8587 - val_loss: 0.4871 - val_acc: 0.8634\n",
      "Epoch 16/20\n",
      "60000/60000 [==============================] - 8s 134us/sample - loss: 0.5009 - acc: 0.8618 - val_loss: 0.4945 - val_acc: 0.8632\n",
      "Epoch 17/20\n",
      "60000/60000 [==============================] - 8s 133us/sample - loss: 0.4955 - acc: 0.8625 - val_loss: 0.5225 - val_acc: 0.8512\n",
      "Epoch 18/20\n",
      "60000/60000 [==============================] - 8s 133us/sample - loss: 0.5208 - acc: 0.8486 - val_loss: 0.4876 - val_acc: 0.8563\n",
      "Epoch 19/20\n",
      "60000/60000 [==============================] - 8s 134us/sample - loss: 0.5029 - acc: 0.8579 - val_loss: 0.4950 - val_acc: 0.8638\n",
      "Epoch 20/20\n",
      "60000/60000 [==============================] - 8s 134us/sample - loss: 0.4858 - acc: 0.8649 - val_loss: 0.4719 - val_acc: 0.8655\n"
     ]
    }
   ],
   "source": [
    "history = model.fit(x_train,y_train,epochs=20,\n",
    "                     validation_data=(x_test,y_test))"
   ]
  },
  {
   "cell_type": "code",
   "execution_count": 26,
   "id": "ced205df",
   "metadata": {},
   "outputs": [],
   "source": [
    "model.save('mnist_model.h5')"
   ]
  },
  {
   "cell_type": "code",
   "execution_count": 27,
   "id": "25e853fb",
   "metadata": {
    "scrolled": true
   },
   "outputs": [
    {
     "data": {
      "text/plain": [
       "{'loss': [0.54570411957105,\n",
       "  0.5250236626704534,\n",
       "  0.53651587647597,\n",
       "  0.5621505346298218,\n",
       "  0.5277822080572446,\n",
       "  0.531966005206108,\n",
       "  0.5219316139101983,\n",
       "  0.5112246032595634,\n",
       "  0.4980285586198171,\n",
       "  0.5117609359542529,\n",
       "  0.5224527880628904,\n",
       "  0.5157881335576375,\n",
       "  0.511060255877177,\n",
       "  0.5092568065365155,\n",
       "  0.5015965028564136,\n",
       "  0.500898287598292,\n",
       "  0.4954844562093417,\n",
       "  0.520812903936704,\n",
       "  0.5029325237194697,\n",
       "  0.4858434808651606],\n",
       " 'acc': [0.84033334,\n",
       "  0.84751666,\n",
       "  0.84725,\n",
       "  0.8349,\n",
       "  0.85108334,\n",
       "  0.8487333,\n",
       "  0.8561,\n",
       "  0.8549333,\n",
       "  0.8565,\n",
       "  0.85396665,\n",
       "  0.84945,\n",
       "  0.8526,\n",
       "  0.85436666,\n",
       "  0.85116667,\n",
       "  0.85868335,\n",
       "  0.86183333,\n",
       "  0.8624667,\n",
       "  0.8486,\n",
       "  0.85795,\n",
       "  0.8649333],\n",
       " 'val_loss': [0.521130978679657,\n",
       "  0.5184805949687957,\n",
       "  0.527658004450798,\n",
       "  0.5350936922311783,\n",
       "  0.5092466377973557,\n",
       "  0.547106372308731,\n",
       "  0.5362741951227188,\n",
       "  0.4991612892389298,\n",
       "  0.5018057841539383,\n",
       "  0.5232619562149048,\n",
       "  0.5023495602369309,\n",
       "  0.4934060426235199,\n",
       "  0.4858388769865036,\n",
       "  0.5100468993663788,\n",
       "  0.48706122450828554,\n",
       "  0.4944841667890549,\n",
       "  0.5225280765771866,\n",
       "  0.4875515475511551,\n",
       "  0.4950041540622711,\n",
       "  0.47188172681331636],\n",
       " 'val_acc': [0.8456,\n",
       "  0.8504,\n",
       "  0.8483,\n",
       "  0.8459,\n",
       "  0.8496,\n",
       "  0.8431,\n",
       "  0.8429,\n",
       "  0.8556,\n",
       "  0.8581,\n",
       "  0.8488,\n",
       "  0.8528,\n",
       "  0.8613,\n",
       "  0.8617,\n",
       "  0.8426,\n",
       "  0.8634,\n",
       "  0.8632,\n",
       "  0.8512,\n",
       "  0.8563,\n",
       "  0.8638,\n",
       "  0.8655]}"
      ]
     },
     "execution_count": 27,
     "metadata": {},
     "output_type": "execute_result"
    }
   ],
   "source": [
    "history.history"
   ]
  },
  {
   "cell_type": "code",
   "execution_count": 28,
   "id": "26d3700f",
   "metadata": {},
   "outputs": [
    {
     "data": {
      "text/plain": [
       "<matplotlib.legend.Legend at 0x7fb627d22b38>"
      ]
     },
     "execution_count": 28,
     "metadata": {},
     "output_type": "execute_result"
    },
    {
     "data": {
      "image/png": "[encoded data removed]",
      "text/plain": [
       "<Figure size 432x288 with 1 Axes>"
      ]
     },
     "metadata": {
      "needs_background": "light"
     },
     "output_type": "display_data"
    }
   ],
   "source": [
    "plt.plot(history.history['loss'],label = 'Train Loss')\n",
    "plt.plot(history.history['val_loss'],label = 'Validation Loss')\n",
    "plt.legend()"
   ]
  },
  {
   "cell_type": "code",
   "execution_count": 29,
   "id": "df1577e3",
   "metadata": {},
   "outputs": [
    {
     "data": {
      "text/plain": [
       "<matplotlib.legend.Legend at 0x7fb62809e5c0>"
      ]
     },
     "execution_count": 29,
     "metadata": {},
     "output_type": "execute_result"
    },
    {
     "data": {
      "image/png": "[encoded data removed]",
      "text/plain": [
       "<Figure size 432x288 with 1 Axes>"
      ]
     },
     "metadata": {
      "needs_background": "light"
     },
     "output_type": "display_data"
    }
   ],
   "source": [
    "plt.plot(history.history['acc'],label = 'Train accuracy')\n",
    "plt.plot(history.history['val_acc'],label = 'Validation accuracy')\n",
    "plt.legend()"
   ]
  },
  {
   "cell_type": "code",
   "execution_count": 31,
   "id": "4ddbcbfd",
   "metadata": {},
   "outputs": [],
   "source": [
    "import tensorflow.keras"
   ]
  },
  {
   "cell_type": "code",
   "execution_count": 33,
   "id": "debe8ba3",
   "metadata": {
    "scrolled": true
   },
   "outputs": [],
   "source": [
    "model = tensorflow.keras.models.load_model('mnist_model.h5')"
   ]
  },
  {
   "cell_type": "code",
   "execution_count": 37,
   "id": "829e1b61",
   "metadata": {
    "scrolled": true
   },
   "outputs": [
    {
     "ename": "SyntaxError",
     "evalue": "keyword can't be an expression (<ipython-input-37-0b068447dff2>, line 1)",
     "output_type": "error",
     "traceback": [
      "\u001b[0;36m  File \u001b[0;32m\"<ipython-input-37-0b068447dff2>\"\u001b[0;36m, line \u001b[0;32m1\u001b[0m\n\u001b[0;31m    plt.imshow(x_test[0].cmap='gray')\u001b[0m\n\u001b[0m              ^\u001b[0m\n\u001b[0;31mSyntaxError\u001b[0m\u001b[0;31m:\u001b[0m keyword can't be an expression\n"
     ]
    }
   ],
   "source": [
    "plt.imshow(x_test[0].cmap='gray')"
   ]
  },
  {
   "cell_type": "code",
   "execution_count": null,
   "id": "c4762451",
   "metadata": {},
   "outputs": [],
   "source": []
  }
 ],
 "metadata": {
  "kernelspec": {
   "display_name": "Python 3",
   "language": "python",
   "name": "python3"
  },
  "language_info": {
   "codemirror_mode": {
    "name": "ipython",
    "version": 3
   },
   "file_extension": ".py",
   "mimetype": "text/x-python",
   "name": "python",
   "nbconvert_exporter": "python",
   "pygments_lexer": "ipython3",
   "version": "3.6.13"
  }
 },
 "nbformat": 4,
 "nbformat_minor": 5
}
